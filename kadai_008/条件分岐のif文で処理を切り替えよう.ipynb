{
  "nbformat": 4,
  "nbformat_minor": 0,
  "metadata": {
    "colab": {
      "provenance": []
    },
    "kernelspec": {
      "name": "python3",
      "display_name": "Python 3"
    },
    "language_info": {
      "name": "python"
    }
  },
  "cells": [
    {
      "cell_type": "code",
      "execution_count": 17,
      "metadata": {
        "colab": {
          "base_uri": "https://localhost:8080/"
        },
        "id": "hQrYURO1iGcD",
        "outputId": "4bab63e1-eca1-46db-c654-325ce85b5c3b"
      },
      "outputs": [
        {
          "output_type": "stream",
          "name": "stdout",
          "text": [
            "Buzz\n"
          ]
        }
      ],
      "source": [
        "import random\n",
        "\n",
        "var = random.randint(0, 20)\n",
        "\n",
        "if var % 3 == 0 and var % 5 != 0:\n",
        "    print(\"Fizz\")\n",
        "elif var % 3 != 0 and var % 5 ==0:\n",
        "    print(\"Buzz\")\n",
        "elif var % 3 == 0 and var % 5 ==0:\n",
        "    print(\"FizzBuzz\")\n",
        "else:\n",
        "    print(var)"
      ]
    }
  ]
}