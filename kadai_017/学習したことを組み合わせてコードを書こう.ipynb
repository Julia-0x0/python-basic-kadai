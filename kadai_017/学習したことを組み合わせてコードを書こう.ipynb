{
  "nbformat": 4,
  "nbformat_minor": 0,
  "metadata": {
    "colab": {
      "provenance": []
    },
    "kernelspec": {
      "name": "python3",
      "display_name": "Python 3"
    },
    "language_info": {
      "name": "python"
    }
  },
  "cells": [
    {
      "cell_type": "code",
      "execution_count": 20,
      "metadata": {
        "colab": {
          "base_uri": "https://localhost:8080/"
        },
        "id": "H-IKiFFDGxyX",
        "outputId": "24974a39-7eec-4064-baa5-72803638b89e"
      },
      "outputs": [
        {
          "output_type": "stream",
          "name": "stdout",
          "text": [
            "侍太郎さんの年齢は35歳です。20歳以上なので、大人です\n",
            "侍花子さんの年齢は22歳です。20歳以上なので、大人です\n",
            "侍二郎さんの年齢は18歳です。20歳未満なので、未成年です。\n",
            "侍三郎さんの年齢は15歳です。20歳未満なので、未成年です。\n"
          ]
        }
      ],
      "source": [
        "class Human:\n",
        "    def __init__(self, name, age):\n",
        "        self.name = name\n",
        "        self.age = int(age)\n",
        "\n",
        "    def check_adult(self):\n",
        "        if self.age >= 20:\n",
        "            print(f\"{self.name}さんの年齢は{self.age}歳です。20歳以上なので、大人です\")\n",
        "        else:\n",
        "            print(f\"{self.name}さんの年齢は{self.age}歳です。20歳未満なので、未成年です。\")\n",
        "\n",
        "human_info = [[\"侍太郎\", 35], [\"侍花子\", 22], [\"侍二郎\", 18], [\"侍三郎\", 15]]\n",
        "\n",
        "\n",
        "for info in human_info:\n",
        "    human = Human(*info)\n",
        "    human.check_adult()\n"
      ]
    }
  ]
}