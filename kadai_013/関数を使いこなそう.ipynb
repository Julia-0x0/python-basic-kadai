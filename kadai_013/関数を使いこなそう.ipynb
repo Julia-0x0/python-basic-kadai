{
  "nbformat": 4,
  "nbformat_minor": 0,
  "metadata": {
    "colab": {
      "provenance": []
    },
    "kernelspec": {
      "name": "python3",
      "display_name": "Python 3"
    },
    "language_info": {
      "name": "python"
    }
  },
  "cells": [
    {
      "cell_type": "code",
      "execution_count": 4,
      "metadata": {
        "colab": {
          "base_uri": "https://localhost:8080/"
        },
        "id": "QittrlHc9y4B",
        "outputId": "5cbacb11-882f-44f4-bed7-ffb79afa7644"
      },
      "outputs": [
        {
          "output_type": "stream",
          "name": "stdout",
          "text": [
            "商品は税込みで1100.0円です。\n"
          ]
        }
      ],
      "source": [
        "def add_tax(price, tax_rate):\n",
        "    total_price = price + price * tax_rate / 100\n",
        "\n",
        "    print(f\"商品は税込みで{total_price}円です。\")\n",
        "\n",
        "add_tax(1000, 10)"
      ]
    }
  ]
}